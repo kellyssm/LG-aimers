{
 "cells": [
  {
   "cell_type": "markdown",
   "metadata": {},
   "source": [
    "### LG aimers 해커톤: 1주차 데이터 전처리\n",
    "- 논문을 참고하자면 논문은 IVF 체외수정\"만\"을 처리함. 그래서 \"DI 임신 횟수\"와 같은 feature들이 포함되지 않음. 제공 받은 데이터에선 DI(체내수정) 그리고 특정 시술 유형으로 또 나눠지는 것을 볼 수가 있음. \n",
    "- 우선 먼저 첫번째로 시도 하는거니까 논문대로 \"IVF만\" 처리를 해보고 성능이 구리다 싶음 DI혹은 특정 시술 유형을 포함하여 다시 전처리를 하는 방향으로 가야할 것 같음.\n",
    "    \n",
    "- 사실 DI는 냉동된, 기증된 남성의 정자를 사용하는 시술이라서 한국 정서상 필요 없을 것 같다는 생각이 들긴함.\n",
    "\n",
    "- 성능 구릴시 차선책: DI 방식와 IVF 방식을 사용한 사람들을 나누어서 각각 모델 훈련하고 둘이 합쳐서 검증하기. trian_IVF/ train_DI"
   ]
  },
  {
   "cell_type": "code",
   "execution_count": 1,
   "metadata": {},
   "outputs": [],
   "source": [
    "import pandas as pd\n",
    "import numpy as np\n",
    "import matplotlib.pyplot as plt\n",
    "import seaborn as sns"
   ]
  },
  {
   "cell_type": "code",
   "execution_count": 2,
   "metadata": {},
   "outputs": [
    {
     "name": "stdout",
     "output_type": "stream",
     "text": [
      "train: (256351, 69)\n",
      "test: (90067, 68)\n"
     ]
    }
   ],
   "source": [
    "train = pd.read_csv(r\"C:\\Users\\DELL\\OneDrive\\바탕 화면\\학교\\대학교 3학년\\LG aimers\\open\\train.csv\", encoding=\"utf-8\")\n",
    "test = pd.read_csv(r\"C:\\Users\\DELL\\OneDrive\\바탕 화면\\학교\\대학교 3학년\\LG aimers\\open\\test.csv\", encoding=\"utf-8\")\n",
    "\n",
    "print(f\"train: {train.shape}\\ntest: {test.shape}\")\n"
   ]
  },
  {
   "cell_type": "code",
   "execution_count": 9,
   "metadata": {},
   "outputs": [],
   "source": [
    "# DI 시술인 사람들 제외\n",
    "train = train[train['시술 유형'] == \"IVF\"]"
   ]
  },
  {
   "cell_type": "code",
   "execution_count": 10,
   "metadata": {},
   "outputs": [
    {
     "name": "stdout",
     "output_type": "stream",
     "text": [
      "train: (250060, 69)\n",
      "test: (90067, 68)\n"
     ]
    }
   ],
   "source": [
    "print(f\"train: {train.shape}\\ntest: {test.shape}\")"
   ]
  },
  {
   "cell_type": "code",
   "execution_count": 6,
   "metadata": {},
   "outputs": [
    {
     "data": {
      "text/html": [
       "<div>\n",
       "<style scoped>\n",
       "    .dataframe tbody tr th:only-of-type {\n",
       "        vertical-align: middle;\n",
       "    }\n",
       "\n",
       "    .dataframe tbody tr th {\n",
       "        vertical-align: top;\n",
       "    }\n",
       "\n",
       "    .dataframe thead th {\n",
       "        text-align: right;\n",
       "    }\n",
       "</style>\n",
       "<table border=\"1\" class=\"dataframe\">\n",
       "  <thead>\n",
       "    <tr style=\"text-align: right;\">\n",
       "      <th></th>\n",
       "      <th>ID</th>\n",
       "      <th>시술 시기 코드</th>\n",
       "      <th>시술 당시 나이</th>\n",
       "      <th>임신 시도 또는 마지막 임신 경과 연수</th>\n",
       "      <th>시술 유형</th>\n",
       "      <th>특정 시술 유형</th>\n",
       "      <th>배란 자극 여부</th>\n",
       "      <th>배란 유도 유형</th>\n",
       "      <th>단일 배아 이식 여부</th>\n",
       "      <th>착상 전 유전 검사 사용 여부</th>\n",
       "      <th>...</th>\n",
       "      <th>기증 배아 사용 여부</th>\n",
       "      <th>대리모 여부</th>\n",
       "      <th>PGD 시술 여부</th>\n",
       "      <th>PGS 시술 여부</th>\n",
       "      <th>난자 채취 경과일</th>\n",
       "      <th>난자 해동 경과일</th>\n",
       "      <th>난자 혼합 경과일</th>\n",
       "      <th>배아 이식 경과일</th>\n",
       "      <th>배아 해동 경과일</th>\n",
       "      <th>임신 성공 여부</th>\n",
       "    </tr>\n",
       "  </thead>\n",
       "  <tbody>\n",
       "    <tr>\n",
       "      <th>0</th>\n",
       "      <td>TRAIN_000000</td>\n",
       "      <td>TRZKPL</td>\n",
       "      <td>만18-34세</td>\n",
       "      <td>NaN</td>\n",
       "      <td>IVF</td>\n",
       "      <td>ICSI</td>\n",
       "      <td>1</td>\n",
       "      <td>기록되지 않은 시행</td>\n",
       "      <td>0.0</td>\n",
       "      <td>NaN</td>\n",
       "      <td>...</td>\n",
       "      <td>0.0</td>\n",
       "      <td>0.0</td>\n",
       "      <td>NaN</td>\n",
       "      <td>NaN</td>\n",
       "      <td>0.0</td>\n",
       "      <td>NaN</td>\n",
       "      <td>0.0</td>\n",
       "      <td>3.0</td>\n",
       "      <td>NaN</td>\n",
       "      <td>0</td>\n",
       "    </tr>\n",
       "    <tr>\n",
       "      <th>1</th>\n",
       "      <td>TRAIN_000001</td>\n",
       "      <td>TRYBLT</td>\n",
       "      <td>만45-50세</td>\n",
       "      <td>NaN</td>\n",
       "      <td>IVF</td>\n",
       "      <td>ICSI</td>\n",
       "      <td>0</td>\n",
       "      <td>알 수 없음</td>\n",
       "      <td>0.0</td>\n",
       "      <td>NaN</td>\n",
       "      <td>...</td>\n",
       "      <td>0.0</td>\n",
       "      <td>0.0</td>\n",
       "      <td>NaN</td>\n",
       "      <td>NaN</td>\n",
       "      <td>0.0</td>\n",
       "      <td>NaN</td>\n",
       "      <td>0.0</td>\n",
       "      <td>NaN</td>\n",
       "      <td>NaN</td>\n",
       "      <td>0</td>\n",
       "    </tr>\n",
       "    <tr>\n",
       "      <th>2</th>\n",
       "      <td>TRAIN_000002</td>\n",
       "      <td>TRVNRY</td>\n",
       "      <td>만18-34세</td>\n",
       "      <td>NaN</td>\n",
       "      <td>IVF</td>\n",
       "      <td>IVF</td>\n",
       "      <td>1</td>\n",
       "      <td>기록되지 않은 시행</td>\n",
       "      <td>0.0</td>\n",
       "      <td>NaN</td>\n",
       "      <td>...</td>\n",
       "      <td>0.0</td>\n",
       "      <td>0.0</td>\n",
       "      <td>NaN</td>\n",
       "      <td>NaN</td>\n",
       "      <td>0.0</td>\n",
       "      <td>NaN</td>\n",
       "      <td>0.0</td>\n",
       "      <td>2.0</td>\n",
       "      <td>NaN</td>\n",
       "      <td>0</td>\n",
       "    </tr>\n",
       "    <tr>\n",
       "      <th>3</th>\n",
       "      <td>TRAIN_000003</td>\n",
       "      <td>TRJXFG</td>\n",
       "      <td>만35-37세</td>\n",
       "      <td>NaN</td>\n",
       "      <td>IVF</td>\n",
       "      <td>ICSI</td>\n",
       "      <td>1</td>\n",
       "      <td>기록되지 않은 시행</td>\n",
       "      <td>0.0</td>\n",
       "      <td>NaN</td>\n",
       "      <td>...</td>\n",
       "      <td>0.0</td>\n",
       "      <td>0.0</td>\n",
       "      <td>NaN</td>\n",
       "      <td>NaN</td>\n",
       "      <td>0.0</td>\n",
       "      <td>NaN</td>\n",
       "      <td>0.0</td>\n",
       "      <td>NaN</td>\n",
       "      <td>NaN</td>\n",
       "      <td>0</td>\n",
       "    </tr>\n",
       "    <tr>\n",
       "      <th>4</th>\n",
       "      <td>TRAIN_000004</td>\n",
       "      <td>TRVNRY</td>\n",
       "      <td>만18-34세</td>\n",
       "      <td>NaN</td>\n",
       "      <td>IVF</td>\n",
       "      <td>ICSI</td>\n",
       "      <td>1</td>\n",
       "      <td>기록되지 않은 시행</td>\n",
       "      <td>0.0</td>\n",
       "      <td>NaN</td>\n",
       "      <td>...</td>\n",
       "      <td>0.0</td>\n",
       "      <td>0.0</td>\n",
       "      <td>NaN</td>\n",
       "      <td>NaN</td>\n",
       "      <td>0.0</td>\n",
       "      <td>NaN</td>\n",
       "      <td>0.0</td>\n",
       "      <td>3.0</td>\n",
       "      <td>NaN</td>\n",
       "      <td>0</td>\n",
       "    </tr>\n",
       "  </tbody>\n",
       "</table>\n",
       "<p>5 rows × 69 columns</p>\n",
       "</div>"
      ],
      "text/plain": [
       "             ID 시술 시기 코드 시술 당시 나이  임신 시도 또는 마지막 임신 경과 연수 시술 유형 특정 시술 유형  \\\n",
       "0  TRAIN_000000   TRZKPL  만18-34세                    NaN   IVF     ICSI   \n",
       "1  TRAIN_000001   TRYBLT  만45-50세                    NaN   IVF     ICSI   \n",
       "2  TRAIN_000002   TRVNRY  만18-34세                    NaN   IVF      IVF   \n",
       "3  TRAIN_000003   TRJXFG  만35-37세                    NaN   IVF     ICSI   \n",
       "4  TRAIN_000004   TRVNRY  만18-34세                    NaN   IVF     ICSI   \n",
       "\n",
       "   배란 자극 여부    배란 유도 유형  단일 배아 이식 여부  착상 전 유전 검사 사용 여부  ...  기증 배아 사용 여부  \\\n",
       "0         1  기록되지 않은 시행          0.0               NaN  ...          0.0   \n",
       "1         0      알 수 없음          0.0               NaN  ...          0.0   \n",
       "2         1  기록되지 않은 시행          0.0               NaN  ...          0.0   \n",
       "3         1  기록되지 않은 시행          0.0               NaN  ...          0.0   \n",
       "4         1  기록되지 않은 시행          0.0               NaN  ...          0.0   \n",
       "\n",
       "   대리모 여부  PGD 시술 여부  PGS 시술 여부  난자 채취 경과일  난자 해동 경과일  난자 혼합 경과일  배아 이식 경과일  \\\n",
       "0     0.0        NaN        NaN        0.0        NaN        0.0        3.0   \n",
       "1     0.0        NaN        NaN        0.0        NaN        0.0        NaN   \n",
       "2     0.0        NaN        NaN        0.0        NaN        0.0        2.0   \n",
       "3     0.0        NaN        NaN        0.0        NaN        0.0        NaN   \n",
       "4     0.0        NaN        NaN        0.0        NaN        0.0        3.0   \n",
       "\n",
       "   배아 해동 경과일  임신 성공 여부  \n",
       "0        NaN         0  \n",
       "1        NaN         0  \n",
       "2        NaN         0  \n",
       "3        NaN         0  \n",
       "4        NaN         0  \n",
       "\n",
       "[5 rows x 69 columns]"
      ]
     },
     "execution_count": 6,
     "metadata": {},
     "output_type": "execute_result"
    }
   ],
   "source": [
    "train.head()"
   ]
  },
  {
   "cell_type": "markdown",
   "metadata": {},
   "source": [
    "- 69개의 feature 중, 논문에서 사용한건 30(5개는 논문에서 어떠한 이유로 제거 => 총 25)의 feature을 사용함.\n",
    "\n",
    "- 이게 총 30개인데 여기서 ()한 5개는 제외 한다.\n",
    "\n",
    "[시술 당시 나이, 총 시술 횟수, IVF 임신 횟수, IVF 출산 횟수,여성 주 불임 원인,여성 부 불임 원인,  남성 주 불임 원인, 남성 부 불임 원인, 부부 주 불임 원인, 부부 부 불임 원인, 불임 원인 - 난관 질환, 불임 원인 - 배란 장애, 불임 원인 - 남성 요인, 불명확 불임 원인,  불임 원인 - 자궁내막증, 불임 원인 - 자궁경부 문제, (불임 원인 - 여성 요인), 불임 원인 - 정자 농도, 불임 원인 - 정자 형태, 불임 원인 - 정자 운동성, (불임 원인 - 정자 면역학적 요인), (배란 자극 여부), (난자 출처), (정자 출처), 신선 배아 사용 여부, 동결 배아 사용 여부, 해동된 배아 수, 수집된 신선 난자 수, 파트너 정자와 혼합된 난자 수, 이식된 배아 수]"
   ]
  },
  {
   "cell_type": "code",
   "execution_count": null,
   "metadata": {},
   "outputs": [],
   "source": [
    "# 통계적 정보 확인\n",
    "train.describe()"
   ]
  },
  {
   "cell_type": "code",
   "execution_count": null,
   "metadata": {},
   "outputs": [],
   "source": [
    "selected_features=[\"시술 당시 나이\", \"총 시술 횟수\", \"IVF 임신 횟수\", \"IVF 출산 횟수\", \"여성 주 불임 원인\", \"여성 부 불임 원인\",  \"남성 주 불임 원인\", \"남성 부 불임 원인\", \"부부 주 불임 원인\",\n",
    "                    \"부부 부 불임 원인\", \"불임 원인 - 난관 질환\", \"불임 원인 - 배란 장애\", \"불임 원인 - 남성 요인\", \"불명확 불임 원인\",  \"불임 원인 - 자궁내막증\", \"불임 원인 - 자궁경부 문제\",\n",
    "                    \"불임 원인 - 정자 농도\", \"불임 원인 - 정자 형태\", \"불임 원인 - 정자 운동성\", \"신선 배아 사용 여부\", \"동결 배아 사용 여부\", \"해동된 배아 수\", \"수집된 신선 난자 수\",\n",
    "                    \"파트너 정자와 혼합된 난자 수\", \"이식된 배아 수\", \"임신 성공 여부\"]\n",
    "\n",
    "# 필요한 feature 리스트 정의, \"임신 성공 여부\" = 타겟 변수로 70:30으로 나누어서 검증해야하기 때문에 포함시킴. 이후 x,y로 나눌 예정.\n",
    "train= train[selected_features]\n",
    "print(train.head())"
   ]
  },
  {
   "cell_type": "markdown",
   "metadata": {},
   "source": [
    "### 데이터 전처리\n",
    "- 입력데이터 (x_train, x_val)를 정규화 또는 표준화 해야됨. 그 전에..\n",
    "     \n",
    " 1. ~회라고 적혀 있는 문자열 -> 숫자로 변환\n",
    " 2. 정규화할지 표준화 할지...\n",
    " 3. 나이 묶여있는 것도 숫자로 변환\n",
    " 4. 일단 DI, 특정 유형 시술 신경쓰지 말기. -> 2차 할지 말지 여부는 성능 보고\n",
    " 5. 정규화/표준화 -> 정규화 선택.\n",
    "\n",
    "- 전처리는 훈련 데이터(x_train) 기준으로 학습하여 검증 데이터(x_val)에도 동일한 변환을 적용\n",
    "---\n",
    "from sklearn.preprocessing import StandardScaler\n",
    "\n",
    "scaler = StandardScaler()\n",
    "x_train = scaler.fit_transform(x_train)  # 훈련 데이터로 스케일링 학습\n",
    "x_val = scaler.transform(x_val)  # 동일한 변환 적용\n"
   ]
  },
  {
   "cell_type": "code",
   "execution_count": null,
   "metadata": {},
   "outputs": [],
   "source": [
    "# \"시술 당시 나이\" 변환\n",
    "def convert_age(age):\n",
    "    if age == \"만18-34세\":\n",
    "        return 0\n",
    "    elif age == \"만35-37세\":\n",
    "        return 1\n",
    "    elif age == \"만38-39세\":\n",
    "        return 2\n",
    "    elif age == \"만40-42세\":\n",
    "        return 3\n",
    "    elif age == \"만43-44세\":\n",
    "        return 4\n",
    "    elif age == \"만45-50세\":\n",
    "        return 5\n",
    "    else: # \"알 수 없음\"\n",
    "        return None  # 범위 밖 데이터 처리\n",
    "\n",
    "# Age 칼럼에 적용\n",
    "train['시술 당시 나이'] = train['시술 당시 나이'].apply(convert_age)\n"
   ]
  },
  {
   "cell_type": "code",
   "execution_count": null,
   "metadata": {},
   "outputs": [],
   "source": [
    "# 총 시술 횟수 변환\n",
    "def convert_sting_to_num(count):\n",
    "    if count == \"0회\":\n",
    "        return 0\n",
    "    elif count == \"1회\":\n",
    "        return 1\n",
    "    elif count == \"2회\":\n",
    "        return 2\n",
    "    elif count == \"3회\":\n",
    "        return 3\n",
    "    elif count == \"4회\":\n",
    "        return 4\n",
    "    elif count == \"5회\":\n",
    "        return 5\n",
    "    elif count == \"6회 이상\":\n",
    "        return 6\n",
    "    else:\n",
    "        return None  # 알 수 없음 처리\n",
    "\n",
    "# 총 시술 횟수 칼럼에 적용\n",
    "train['총 시술 횟수'] = train['총 시술 횟수'].apply(convert_sting_to_num)\n",
    "\n",
    "# IVF 시술 횟수 칼럼에 적용\n",
    "train['IVF 임신 횟수'] = train['IVF 임신 횟수'].apply(convert_sting_to_num)\n",
    "\n",
    "# IVF 시술 횟수 칼럼에 적용\n",
    "train['IVF 출산 횟수'] = train['IVF 출산 횟수'].apply(convert_sting_to_num)"
   ]
  },
  {
   "cell_type": "code",
   "execution_count": null,
   "metadata": {},
   "outputs": [],
   "source": [
    "# 잘 변환된 것 확인.\n",
    "print(train.head())"
   ]
  },
  {
   "cell_type": "code",
   "execution_count": null,
   "metadata": {},
   "outputs": [],
   "source": [
    "# 데이터 한국어로 좀 주지\n",
    "sns.heatmap(train.corr(), annot=True, cmap='coolwarm')"
   ]
  },
  {
   "cell_type": "code",
   "execution_count": null,
   "metadata": {},
   "outputs": [],
   "source": [
    "#결측치 수\n",
    "train.isnull().sum()\n",
    "\n",
    "# 신선/동결 배아 사용여부, 해동된 배아 수, 수집된 신선 난자 수, 파트너 정자와 혼합된 난자수, 이식된 배아 수 \n",
    "# => DI 방식을 사용하였기 때문에 당연히 값이 비어있음.\n",
    "# 그래서 다시 위로 올라가서 DI 방식한 사람들 싹 제거해줄 거임. 철저히 IVF만 보겠다."
   ]
  },
  {
   "cell_type": "code",
   "execution_count": null,
   "metadata": {},
   "outputs": [],
   "source": [
    "# 여기서 정규화 해야됨."
   ]
  },
  {
   "cell_type": "code",
   "execution_count": null,
   "metadata": {},
   "outputs": [],
   "source": [
    "# 입력 데이터(x)와 타겟 데이터(y) 분리\n",
    "x = train.drop(columns=[\"임신 성공 여부\"])\n",
    "y = train[\"임신 성공 여부\"]\n",
    "\n",
    "from sklearn.model_selection import train_test_split\n",
    "\n",
    "x_train, x_val, y_train, y_val = train_test_split(\n",
    "    x, y, test_size=0.3, random_state=42, stratify=y  # 0.3 = 30%를 검증에 이용하겠다.\n",
    ")\n",
    "# x_train: 훈련용 입력값 데이터, outcome 제외한 feature\n",
    "# x_val: 검증용 입력값 데이터, outcome 제외한 feature\n",
    "# y_train: 훈련용 타겟값=답(임신 성공 여부)\n",
    "# y_val: 검증용 타겟값"
   ]
  },
  {
   "cell_type": "code",
   "execution_count": null,
   "metadata": {},
   "outputs": [],
   "source": [
    "print(\"훈련 데이터 크기:\", x_train.shape, y_train.shape)\n",
    "print(\"검증 데이터 크기:\", x_val.shape, y_val.shape)"
   ]
  }
 ],
 "metadata": {
  "kernelspec": {
   "display_name": "base",
   "language": "python",
   "name": "python3"
  },
  "language_info": {
   "codemirror_mode": {
    "name": "ipython",
    "version": 3
   },
   "file_extension": ".py",
   "mimetype": "text/x-python",
   "name": "python",
   "nbconvert_exporter": "python",
   "pygments_lexer": "ipython3",
   "version": "3.9.15"
  }
 },
 "nbformat": 4,
 "nbformat_minor": 2
}
