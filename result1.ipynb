{
 "cells": [
  {
   "cell_type": "markdown",
   "metadata": {},
   "source": [
    "### test.csv 사용해서 최종 결과 내보기"
   ]
  },
  {
   "cell_type": "code",
   "execution_count": 24,
   "metadata": {},
   "outputs": [],
   "source": [
    "import pandas as pd\n",
    "import numpy as np\n",
    "import matplotlib.pyplot as plt\n",
    "import seaborn as sns"
   ]
  },
  {
   "cell_type": "code",
   "execution_count": 25,
   "metadata": {},
   "outputs": [
    {
     "name": "stdout",
     "output_type": "stream",
     "text": [
      "train: (256351, 69)\n",
      "test: (90067, 68)\n"
     ]
    }
   ],
   "source": [
    "train = pd.read_csv(r\"C:\\Users\\DELL\\OneDrive\\바탕 화면\\학교\\대학교 3학년\\LG aimers\\open\\train.csv\", encoding=\"utf-8\")\n",
    "test = pd.read_csv(r\"C:\\Users\\DELL\\OneDrive\\바탕 화면\\학교\\대학교 3학년\\LG aimers\\open\\test.csv\", encoding=\"utf-8\")\n",
    "\n",
    "print(f\"train: {train.shape}\\ntest: {test.shape}\")"
   ]
  },
  {
   "cell_type": "code",
   "execution_count": 26,
   "metadata": {},
   "outputs": [],
   "source": [
    "# ID 컬럼을 따로 저장\n",
    "test_ids = test['ID']\n",
    "y_train = train['임신 성공 여부']  # 타겟 변수"
   ]
  },
  {
   "cell_type": "code",
   "execution_count": 27,
   "metadata": {},
   "outputs": [],
   "source": [
    "# selected_features에서 '임신 성공 여부'를 제외한 feature들만 선택\n",
    "selected_features = [\n",
    "    \"시술 당시 나이\", \"시술 유형\", \"총 시술 횟수\", \"IVF 임신 횟수\", \"IVF 출산 횟수\", \"DI 임신 횟수\", \"DI 출산 횟수\",\n",
    "    \"여성 주 불임 원인\", \"여성 부 불임 원인\", \"남성 주 불임 원인\", \"남성 부 불임 원인\", \"부부 주 불임 원인\",\n",
    "    \"부부 부 불임 원인\", \"불임 원인 - 난관 질환\", \"불임 원인 - 배란 장애\", \"불임 원인 - 남성 요인\", \"불명확 불임 원인\",\n",
    "    \"불임 원인 - 자궁내막증\", \"불임 원인 - 자궁경부 문제\", \"불임 원인 - 정자 농도\", \"불임 원인 - 정자 형태\",\n",
    "    \"불임 원인 - 정자 운동성\", \"신선 배아 사용 여부\", \"동결 배아 사용 여부\", \"해동된 배아 수\", \"수집된 신선 난자 수\",\n",
    "    \"파트너 정자와 혼합된 난자 수\", \"이식된 배아 수\"\n",
    "]\n",
    "\n",
    "# train 데이터에서 선택한 feature들과 타겟 변수 포함\n",
    "train = train[selected_features]  # feature들\n",
    "\n",
    "# test 데이터에서는 타겟 변수 없으므로 selected feature만 선택\n",
    "test = test[selected_features]  # feature들\n"
   ]
  },
  {
   "cell_type": "markdown",
   "metadata": {},
   "source": [
    "### 데이터 전처리"
   ]
  },
  {
   "cell_type": "code",
   "execution_count": 28,
   "metadata": {},
   "outputs": [],
   "source": [
    "from sklearn.preprocessing import LabelEncoder\n",
    "\n",
    "# LabelEncoder 객체 생성\n",
    "label_encoder = LabelEncoder()\n",
    "\n",
    "# train에서 시술 유형 레이블 인코딩 (0, 1로 변환)\n",
    "train['시술 유형'] = label_encoder.fit_transform(train['시술 유형'])\n",
    "# test에서 시술 유형을 같은 방식으로 변환 (fit은 train에서만, transform은 test에서도)\n",
    "test['시술 유형'] = label_encoder.transform(test['시술 유형'])\n",
    "\n",
    "# DI 시술에 대해 결측치 채우기\n",
    "columns_with_na = ['해동된 배아 수', '수집된 신선 난자 수', '파트너 정자와 혼합된 난자 수', '이식된 배아 수', \"신선 배아 사용 여부\", \"동결 배아 사용 여부\"]\n",
    "for col in columns_with_na:\n",
    "    train.loc[train['시술 유형'] == 0, col] = train.loc[train['시술 유형'] == 0, col].fillna(0)\n",
    "    test.loc[test['시술 유형'] == 0, col] = test.loc[test['시술 유형'] == 0, col].fillna(0)\n"
   ]
  },
  {
   "cell_type": "code",
   "execution_count": 29,
   "metadata": {},
   "outputs": [],
   "source": [
    "# \"시술 당시 나이\" 변환 함수\n",
    "def convert_age(age):\n",
    "    if age == \"만18-34세\":\n",
    "        return 0\n",
    "    elif age == \"만35-37세\":\n",
    "        return 1\n",
    "    elif age == \"만38-39세\":\n",
    "        return 2\n",
    "    elif age == \"만40-42세\":\n",
    "        return 3\n",
    "    elif age == \"만43-44세\":\n",
    "        return 4\n",
    "    elif age == \"만45-50세\":\n",
    "        return 5\n",
    "    else:  # \"알 수 없음\"\n",
    "        return np.nan  # \"알 수 없음\"을 NaN으로 처리\n",
    "\n",
    "# Age 칼럼에 적용\n",
    "train['시술 당시 나이'] = train['시술 당시 나이'].apply(convert_age)\n",
    "test['시술 당시 나이'] = test['시술 당시 나이'].apply(convert_age)\n",
    "\n",
    "# NaN 값을 평균값으로 채우기\n",
    "age_mean = train['시술 당시 나이'].mean()\n",
    "train['시술 당시 나이'] = train['시술 당시 나이'].fillna(age_mean)\n",
    "test['시술 당시 나이'] = test['시술 당시 나이'].fillna(age_mean)\n"
   ]
  },
  {
   "cell_type": "code",
   "execution_count": 30,
   "metadata": {},
   "outputs": [],
   "source": [
    "# 총 시술 횟수 변환\n",
    "def convert_string_to_num(count):\n",
    "    mapping = {\n",
    "        \"0회\": 0, \"1회\": 1, \"2회\": 2, \"3회\": 3, \"4회\": 4, \"5회\": 5, \"6회 이상\": 6\n",
    "    }\n",
    "    return mapping.get(count, None)  # 알 수 없음 처리\n",
    "\n",
    "# 시술 횟수 처리\n",
    "for column in ['총 시술 횟수', 'IVF 임신 횟수', 'IVF 출산 횟수', 'DI 임신 횟수', 'DI 출산 횟수']:\n",
    "    train[column] = train[column].apply(convert_string_to_num)\n",
    "    test[column] = test[column].apply(convert_string_to_num)"
   ]
  },
  {
   "cell_type": "code",
   "execution_count": 31,
   "metadata": {},
   "outputs": [
    {
     "name": "stdout",
     "output_type": "stream",
     "text": [
      "   시술 당시 나이  시술 유형  총 시술 횟수  IVF 임신 횟수  IVF 출산 횟수  DI 임신 횟수  DI 출산 횟수  \\\n",
      "0       0.0      1        0          0          0         0         0   \n",
      "1       5.0      1        0          0          0         0         0   \n",
      "2       0.0      1        1          0          0         0         0   \n",
      "3       1.0      1        1          0          0         0         0   \n",
      "4       0.0      1        0          0          0         0         0   \n",
      "\n",
      "   여성 주 불임 원인  여성 부 불임 원인  남성 주 불임 원인  ...  불임 원인 - 자궁경부 문제  불임 원인 - 정자 농도  \\\n",
      "0           0           0           0  ...                0              0   \n",
      "1           0           0           0  ...                0              0   \n",
      "2           0           0           0  ...                0              0   \n",
      "3           0           0           0  ...                0              0   \n",
      "4           0           0           0  ...                0              0   \n",
      "\n",
      "   불임 원인 - 정자 형태  불임 원인 - 정자 운동성  신선 배아 사용 여부  동결 배아 사용 여부  해동된 배아 수  \\\n",
      "0              0               0          1.0          0.0       0.0   \n",
      "1              0               0          1.0          0.0       0.0   \n",
      "2              0               0          1.0          0.0       0.0   \n",
      "3              0               0          1.0          0.0       0.0   \n",
      "4              0               0          1.0          0.0       0.0   \n",
      "\n",
      "   수집된 신선 난자 수  파트너 정자와 혼합된 난자 수  이식된 배아 수  \n",
      "0          7.0               5.0       2.0  \n",
      "1          1.0               1.0       0.0  \n",
      "2          8.0               7.0       2.0  \n",
      "3          5.0               4.0       0.0  \n",
      "4          7.0               6.0       2.0  \n",
      "\n",
      "[5 rows x 28 columns]\n"
     ]
    }
   ],
   "source": [
    "# 잘 변환된 것 확인.\n",
    "print(train.head())"
   ]
  },
  {
   "cell_type": "code",
   "execution_count": 32,
   "metadata": {},
   "outputs": [
    {
     "name": "stdout",
     "output_type": "stream",
     "text": [
      "   시술 당시 나이  시술 유형  총 시술 횟수  IVF 임신 횟수  IVF 출산 횟수  DI 임신 횟수  DI 출산 횟수  \\\n",
      "0       1.0      1        1          0          0         0         0   \n",
      "1       0.0      1        0          0          0         0         0   \n",
      "2       3.0      1        0          0          0         0         0   \n",
      "3       3.0      1        0          0          0         0         0   \n",
      "4       1.0      1        1          0          0         0         0   \n",
      "\n",
      "   여성 주 불임 원인  여성 부 불임 원인  남성 주 불임 원인  ...  불임 원인 - 자궁경부 문제  불임 원인 - 정자 농도  \\\n",
      "0           0           0           0  ...                0              0   \n",
      "1           0           0           0  ...                0              0   \n",
      "2           0           0           0  ...                0              0   \n",
      "3           0           0           0  ...                0              0   \n",
      "4           0           0           0  ...                0              0   \n",
      "\n",
      "   불임 원인 - 정자 형태  불임 원인 - 정자 운동성  신선 배아 사용 여부  동결 배아 사용 여부  해동된 배아 수  \\\n",
      "0              0               0          1.0          0.0       0.0   \n",
      "1              0               0          1.0          0.0       0.0   \n",
      "2              0               0          1.0          0.0       0.0   \n",
      "3              0               0          1.0          0.0       0.0   \n",
      "4              0               0          1.0          0.0       0.0   \n",
      "\n",
      "   수집된 신선 난자 수  파트너 정자와 혼합된 난자 수  이식된 배아 수  \n",
      "0          8.0               8.0       0.0  \n",
      "1          1.0               0.0       0.0  \n",
      "2          9.0               9.0       3.0  \n",
      "3          2.0               2.0       2.0  \n",
      "4         10.0              10.0       2.0  \n",
      "\n",
      "[5 rows x 28 columns]\n"
     ]
    }
   ],
   "source": [
    "# 잘 변환된 것 확인.\n",
    "print(test.head())"
   ]
  },
  {
   "cell_type": "code",
   "execution_count": 33,
   "metadata": {},
   "outputs": [
    {
     "data": {
      "text/plain": [
       "시술 당시 나이            0\n",
       "시술 유형               0\n",
       "총 시술 횟수             0\n",
       "IVF 임신 횟수           0\n",
       "IVF 출산 횟수           0\n",
       "DI 임신 횟수            0\n",
       "DI 출산 횟수            0\n",
       "여성 주 불임 원인          0\n",
       "여성 부 불임 원인          0\n",
       "남성 주 불임 원인          0\n",
       "남성 부 불임 원인          0\n",
       "부부 주 불임 원인          0\n",
       "부부 부 불임 원인          0\n",
       "불임 원인 - 난관 질환       0\n",
       "불임 원인 - 배란 장애       0\n",
       "불임 원인 - 남성 요인       0\n",
       "불명확 불임 원인           0\n",
       "불임 원인 - 자궁내막증       0\n",
       "불임 원인 - 자궁경부 문제     0\n",
       "불임 원인 - 정자 농도       0\n",
       "불임 원인 - 정자 형태       0\n",
       "불임 원인 - 정자 운동성      0\n",
       "신선 배아 사용 여부         0\n",
       "동결 배아 사용 여부         0\n",
       "해동된 배아 수            0\n",
       "수집된 신선 난자 수         0\n",
       "파트너 정자와 혼합된 난자 수    0\n",
       "이식된 배아 수            0\n",
       "dtype: int64"
      ]
     },
     "execution_count": 33,
     "metadata": {},
     "output_type": "execute_result"
    }
   ],
   "source": [
    "#결측치 수\n",
    "train.isnull().sum()"
   ]
  },
  {
   "cell_type": "code",
   "execution_count": 34,
   "metadata": {},
   "outputs": [
    {
     "data": {
      "text/plain": [
       "시술 당시 나이            0\n",
       "시술 유형               0\n",
       "총 시술 횟수             0\n",
       "IVF 임신 횟수           0\n",
       "IVF 출산 횟수           0\n",
       "DI 임신 횟수            0\n",
       "DI 출산 횟수            0\n",
       "여성 주 불임 원인          0\n",
       "여성 부 불임 원인          0\n",
       "남성 주 불임 원인          0\n",
       "남성 부 불임 원인          0\n",
       "부부 주 불임 원인          0\n",
       "부부 부 불임 원인          0\n",
       "불임 원인 - 난관 질환       0\n",
       "불임 원인 - 배란 장애       0\n",
       "불임 원인 - 남성 요인       0\n",
       "불명확 불임 원인           0\n",
       "불임 원인 - 자궁내막증       0\n",
       "불임 원인 - 자궁경부 문제     0\n",
       "불임 원인 - 정자 농도       0\n",
       "불임 원인 - 정자 형태       0\n",
       "불임 원인 - 정자 운동성      0\n",
       "신선 배아 사용 여부         0\n",
       "동결 배아 사용 여부         0\n",
       "해동된 배아 수            0\n",
       "수집된 신선 난자 수         0\n",
       "파트너 정자와 혼합된 난자 수    0\n",
       "이식된 배아 수            0\n",
       "dtype: int64"
      ]
     },
     "execution_count": 34,
     "metadata": {},
     "output_type": "execute_result"
    }
   ],
   "source": [
    "#결측치 수\n",
    "test.isnull().sum()"
   ]
  },
  {
   "cell_type": "code",
   "execution_count": 35,
   "metadata": {},
   "outputs": [],
   "source": [
    "# 전처리 후 x_train과 x_test 업데이트\n",
    "x_train = train[selected_features]\n",
    "x_test = test[selected_features]"
   ]
  },
  {
   "cell_type": "code",
   "execution_count": 37,
   "metadata": {},
   "outputs": [],
   "source": [
    "# 정규화.(0~1)\n",
    "from sklearn.preprocessing import MinMaxScaler\n",
    "\n",
    "scaler = MinMaxScaler()\n",
    "# x_train에서 선택한 열\n",
    "columns_to_scale_train = [\"시술 당시 나이\", \"IVF 임신 횟수\", \"IVF 출산 횟수\", \"DI 임신 횟수\", \"DI 출산 횟수\", \n",
    "                          \"이식된 배아 수\", \"해동된 배아 수\", \"수집된 신선 난자 수\", \"파트너 정자와 혼합된 난자 수\"]\n",
    "\n",
    "# x_test에서 선택한 열\n",
    "columns_to_scale_test = [\"시술 당시 나이\", \"IVF 임신 횟수\", \"IVF 출산 횟수\", \"DI 임신 횟수\", \"DI 출산 횟수\", \n",
    "                         \"이식된 배아 수\", \"해동된 배아 수\", \"수집된 신선 난자 수\", \"파트너 정자와 혼합된 난자 수\"]\n",
    "\n",
    "\n",
    "# train과 test 데이터의 해당 열만 정규화\n",
    "x_train[columns_to_scale_train] = scaler.fit_transform(x_train[columns_to_scale_train])\n",
    "x_test[columns_to_scale_test] = scaler.transform(x_test[columns_to_scale_test])\n"
   ]
  },
  {
   "cell_type": "markdown",
   "metadata": {},
   "source": [
    "### 모델 학습"
   ]
  },
  {
   "cell_type": "code",
   "execution_count": 44,
   "metadata": {},
   "outputs": [
    {
     "name": "stdout",
     "output_type": "stream",
     "text": [
      "예측된 값: [9.98257366e-01 7.13004609e-02 9.99963096e-01 ... 1.00000000e+00\n",
      " 1.55557344e-04 9.99584296e-01]\n"
     ]
    }
   ],
   "source": [
    "from sklearn.linear_model import LogisticRegression\n",
    "from sklearn.metrics import accuracy_score\n",
    "\n",
    "# 로지스틱 회귀 모델 객체 생성\n",
    "logreg = LogisticRegression(max_iter=1000)\n",
    "\n",
    "# 모델 학습\n",
    "logreg.fit(x_train, y_train)\n",
    "\n",
    "# 학습된 모델로 예측\n",
    "y_prob = logreg.predict_proba(x_test)\n",
    "y_prob_class_1 = y_prob[:, 1]\n",
    "# 예측 결과 확인\n",
    "print(f\"예측된 값: {y_prob_class_1}\")\n"
   ]
  },
  {
   "cell_type": "code",
   "execution_count": 46,
   "metadata": {},
   "outputs": [],
   "source": [
    "# 로지스틱 회귀 모델로 확률 예측\n",
    "\n",
    "# 예측 결과를 DataFrame으로 저장 (id 컬럼은 test 데이터에서 가져옴)\n",
    "result = pd.DataFrame({\n",
    "    'ID': test_ids,  # test 데이터의 id를 사용\n",
    "    'probability': y_prob_class_1  # 예측된 값\n",
    "})\n",
    "\n",
    "# 예측 결과를 CSV 파일로 저장\n",
    "result.to_csv('prediction_results.csv', index=False, encoding='utf-8-sig')\n"
   ]
  },
  {
   "cell_type": "code",
   "execution_count": 47,
   "metadata": {},
   "outputs": [
    {
     "name": "stdout",
     "output_type": "stream",
     "text": [
      "훈련 데이터 정확도: 0.7405900503606383\n"
     ]
    }
   ],
   "source": [
    "# 정확도 평가 (train 데이터를 이용)\n",
    "train_pred = logreg.predict(x_train)\n",
    "print(f\"훈련 데이터 정확도: {accuracy_score(y_train, train_pred)}\")\n"
   ]
  },
  {
   "cell_type": "markdown",
   "metadata": {},
   "source": [
    "다콘 결과: 0.60932\n",
    "\n",
    "뭐가 문제일까..^^"
   ]
  }
 ],
 "metadata": {
  "kernelspec": {
   "display_name": "base",
   "language": "python",
   "name": "python3"
  },
  "language_info": {
   "codemirror_mode": {
    "name": "ipython",
    "version": 3
   },
   "file_extension": ".py",
   "mimetype": "text/x-python",
   "name": "python",
   "nbconvert_exporter": "python",
   "pygments_lexer": "ipython3",
   "version": "3.9.15"
  }
 },
 "nbformat": 4,
 "nbformat_minor": 2
}
