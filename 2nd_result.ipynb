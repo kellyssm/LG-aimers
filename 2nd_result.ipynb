{
 "cells": [
  {
   "cell_type": "code",
   "execution_count": 29,
   "metadata": {},
   "outputs": [],
   "source": [
    "import pandas as pd\n",
    "import numpy as np\n",
    "from sklearn.preprocessing import LabelEncoder, MinMaxScaler\n",
    "from sklearn.model_selection import train_test_split\n",
    "from sklearn.linear_model import LogisticRegression\n",
    "from sklearn.metrics import accuracy_score, classification_report"
   ]
  },
  {
   "cell_type": "code",
   "execution_count": 30,
   "metadata": {},
   "outputs": [],
   "source": [
    "# 데이터 로드\n",
    "train = pd.read_csv(r\"C:\\Users\\DELL\\OneDrive\\바탕 화면\\학교\\대학교 3학년\\LG aimers\\open\\train.csv\", encoding=\"utf-8\")\n",
    "test = pd.read_csv(r\"C:\\Users\\DELL\\OneDrive\\바탕 화면\\학교\\대학교 3학년\\LG aimers\\open\\test.csv\", encoding=\"utf-8\")\n",
    "\n",
    "# 선택할 feature\n",
    "selected_features = [\"시술 당시 나이\", \"시술 유형\", \"총 시술 횟수\", \"IVF 임신 횟수\", \"IVF 출산 횟수\", \"DI 임신 횟수\", \"DI 출산 횟수\",\n",
    "                     \"여성 주 불임 원인\", \"여성 부 불임 원인\", \"남성 주 불임 원인\", \"남성 부 불임 원인\", \"부부 주 불임 원인\", \"부부 부 불임 원인\",\n",
    "                     \"불임 원인 - 난관 질환\", \"불임 원인 - 배란 장애\", \"불임 원인 - 남성 요인\", \"불명확 불임 원인\", \"불임 원인 - 자궁내막증\", \"불임 원인 - 자궁경부 문제\",\n",
    "                     \"불임 원인 - 정자 농도\", \"불임 원인 - 정자 형태\", \"불임 원인 - 정자 운동성\", \"신선 배아 사용 여부\", \"동결 배아 사용 여부\", \"해동된 배아 수\",\n",
    "                     \"수집된 신선 난자 수\", \"파트너 정자와 혼합된 난자 수\", \"이식된 배아 수\"]\n"
   ]
  },
  {
   "cell_type": "code",
   "execution_count": 31,
   "metadata": {},
   "outputs": [],
   "source": [
    "target_column = \"임신 성공 여부\"\n",
    "train = train[selected_features + [target_column]]\n",
    "test = test[selected_features]"
   ]
  },
  {
   "cell_type": "code",
   "execution_count": null,
   "metadata": {},
   "outputs": [],
   "source": [
    "def preprocess_data(df, is_train=True):\n",
    "    # 레이블 인코딩\n",
    "    label_encoder = LabelEncoder()\n",
    "    df['시술 유형'] = label_encoder.fit_transform(df['시술 유형'])\n",
    "    \n",
    "    # 결측값 처리\n",
    "    di_columns = ['해동된 배아 수', '수집된 신선 난자 수', '파트너 정자와 혼합된 난자 수', '이식된 배아 수', \"신선 배아 사용 여부\", \"동결 배아 사용 여부\"]\n",
    "    df.loc[df['시술 유형'] == 0, di_columns] = df.loc[df['시술 유형'] == 0, di_columns].fillna(0)\n",
    "    \n",
    "    # \"시술 당시 나이\" 변환\n",
    "    age_mapping = {\"만18-34세\": 0, \"만35-37세\": 1, \"만38-39세\": 2, \"만40-42세\": 3, \"만43-44세\": 4, \"만45-50세\": 5}\n",
    "    df['시술 당시 나이'] = df['시술 당시 나이'].map(age_mapping).fillna(np.nan)\n",
    "    df['시술 당시 나이'].fillna(df['시술 당시 나이'].mean(), inplace=True)\n",
    "    \n",
    "    # 시술 횟수 변환 함수\n",
    "    def convert_string_to_num(count):\n",
    "        mapping = {\"0회\": 0, \"1회\": 1, \"2회\": 2, \"3회\": 3, \"4회\": 4, \"5회\": 5, \"6회 이상\": 6}\n",
    "        return mapping.get(count, None)\n",
    "    \n",
    "    count_cols = [\"총 시술 횟수\", \"IVF 임신 횟수\", \"IVF 출산 횟수\", \"DI 임신 횟수\", \"DI 출산 횟수\"]\n",
    "    for col in count_cols:\n",
    "        df[col] = df[col].apply(convert_string_to_num)\n",
    "    \n",
    "    # 정규화\n",
    "    scaler = MinMaxScaler()\n",
    "    normalize_cols = [\"시술 당시 나이\", \"IVF 임신 횟수\", \"IVF 출산 횟수\", \"DI 임신 횟수\", \"DI 출산 횟수\", \"이식된 배아 수\", \"해동된 배아 수\", \"수집된 신선 난자 수\", \"파트너 정자와 혼합된 난자 수\"]\n",
    "    df[normalize_cols] = scaler.fit_transform(df[normalize_cols])\n",
    "    \n",
    "    return df"
   ]
  },
  {
   "cell_type": "code",
   "execution_count": 34,
   "metadata": {},
   "outputs": [],
   "source": [
    "# 데이터 전처리\n",
    "train = preprocess_data(train)\n",
    "test = preprocess_data(test, is_train=False)"
   ]
  },
  {
   "cell_type": "code",
   "execution_count": 35,
   "metadata": {},
   "outputs": [],
   "source": [
    "# 훈련 데이터 분할\n",
    "x = train.drop(columns=[target_column])\n",
    "y = train[target_column]"
   ]
  },
  {
   "cell_type": "code",
   "execution_count": 36,
   "metadata": {},
   "outputs": [],
   "source": [
    "x_train, x_val, y_train, y_val = train_test_split(x, y, test_size=0.3, random_state=42, stratify=y)"
   ]
  },
  {
   "cell_type": "code",
   "execution_count": 37,
   "metadata": {},
   "outputs": [
    {
     "name": "stderr",
     "output_type": "stream",
     "text": [
      "c:\\Users\\DELL\\anaconda3\\lib\\site-packages\\sklearn\\linear_model\\_logistic.py:814: ConvergenceWarning: lbfgs failed to converge (status=1):\n",
      "STOP: TOTAL NO. of ITERATIONS REACHED LIMIT.\n",
      "\n",
      "Increase the number of iterations (max_iter) or scale the data as shown in:\n",
      "    https://scikit-learn.org/stable/modules/preprocessing.html\n",
      "Please also refer to the documentation for alternative solver options:\n",
      "    https://scikit-learn.org/stable/modules/linear_model.html#logistic-regression\n",
      "  n_iter_i = _check_optimize_result(\n"
     ]
    },
    {
     "data": {
      "text/plain": [
       "LogisticRegression()"
      ]
     },
     "execution_count": 37,
     "metadata": {},
     "output_type": "execute_result"
    }
   ],
   "source": [
    "# 모델 학습\n",
    "model = LogisticRegression()\n",
    "model.fit(x_train, y_train)"
   ]
  },
  {
   "cell_type": "code",
   "execution_count": 38,
   "metadata": {},
   "outputs": [
    {
     "name": "stdout",
     "output_type": "stream",
     "text": [
      "Accuracy: 0.7400592931630822\n",
      "Classification Report:\n",
      "               precision    recall  f1-score   support\n",
      "\n",
      "           0       0.74      0.99      0.85     57037\n",
      "           1       0.43      0.02      0.04     19869\n",
      "\n",
      "    accuracy                           0.74     76906\n",
      "   macro avg       0.59      0.50      0.44     76906\n",
      "weighted avg       0.66      0.74      0.64     76906\n",
      "\n"
     ]
    }
   ],
   "source": [
    "# 검증 데이터 평가\n",
    "y_pred = model.predict(x_val)\n",
    "y_prob = model.predict_proba(x_val)[:, 1]\n",
    "print(\"Accuracy:\", accuracy_score(y_val, y_pred))\n",
    "print(\"Classification Report:\\n\", classification_report(y_val, y_pred))"
   ]
  },
  {
   "cell_type": "code",
   "execution_count": 41,
   "metadata": {},
   "outputs": [],
   "source": [
    "# 테스트 데이터 예측\n",
    "test_ids = [f\"TEST_{str(i).zfill(5)}\" for i in range(len(test))]  # ID 컬럼이 없을 경우 인덱스 사용\n",
    "y_test_prob = model.predict_proba(test)[:, 1]"
   ]
  },
  {
   "cell_type": "code",
   "execution_count": 42,
   "metadata": {},
   "outputs": [],
   "source": [
    "# 결과 저장\n",
    "result = pd.DataFrame({\n",
    "    'ID': test_ids,\n",
    "    'probability': y_test_prob\n",
    "})\n",
    "result.to_csv('prediction_results2.csv', index=False, encoding='utf-8-sig')"
   ]
  },
  {
   "cell_type": "markdown",
   "metadata": {},
   "source": [
    "0.666"
   ]
  }
 ],
 "metadata": {
  "kernelspec": {
   "display_name": "base",
   "language": "python",
   "name": "python3"
  },
  "language_info": {
   "codemirror_mode": {
    "name": "ipython",
    "version": 3
   },
   "file_extension": ".py",
   "mimetype": "text/x-python",
   "name": "python",
   "nbconvert_exporter": "python",
   "pygments_lexer": "ipython3",
   "version": "3.9.15"
  }
 },
 "nbformat": 4,
 "nbformat_minor": 2
}
